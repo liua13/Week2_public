{
  "nbformat": 4,
  "nbformat_minor": 0,
  "metadata": {
    "colab": {
      "name": "Conv1DStudent.ipynb",
      "version": "0.3.2",
      "provenance": [],
      "collapsed_sections": []
    }
  },
  "cells": [
    {
      "metadata": {
        "id": "PcahCqill_TM",
        "colab_type": "text"
      },
      "cell_type": "markdown",
      "source": [
        "# 1d Convolutional Neural Networks"
      ]
    },
    {
      "metadata": {
        "id": "5juHZFcFugzS",
        "colab_type": "code",
        "colab": {}
      },
      "cell_type": "code",
      "source": [
        "# Imports\n",
        "import numpy as np\n",
        "import os\n",
        "# from utils.utilities import *\n",
        "from sklearn.model_selection import train_test_split\n",
        "import matplotlib.pyplot as plt\n",
        "import tensorflow as tf\n",
        "import pandas as pd\n",
        "import tensorflow as tf\n",
        "from tensorflow import keras"
      ],
      "execution_count": 0,
      "outputs": []
    },
    {
      "metadata": {
        "id": "Bx9AXfRcmGky",
        "colab_type": "text"
      },
      "cell_type": "markdown",
      "source": [
        "### About the Data"
      ]
    },
    {
      "metadata": {
        "id": "8-uE2dd9mJMv",
        "colab_type": "text"
      },
      "cell_type": "markdown",
      "source": [
        "Data is from people doing one of these activities (WALKING, WALKING_UPSTAIRS, WALKING_DOWNSTAIRS, SITTING, STANDING, LAYING) <br><br>\n",
        "The data is from a smartphone and provides the body acceleration, general acceleration and a gyroscope reading <br><br>\n",
        "Data is from: https://archive.ics.uci.edu/ml/datasets/human+activity+recognition+using+smartphones "
      ]
    },
    {
      "metadata": {
        "id": "gHFlVzfY4ZPQ",
        "colab_type": "text"
      },
      "cell_type": "markdown",
      "source": [
        "### Read in data from functions provided below"
      ]
    },
    {
      "metadata": {
        "id": "ikIjLu7w4Mm_",
        "colab_type": "code",
        "colab": {}
      },
      "cell_type": "code",
      "source": [
        "X_train, labels_train, list_ch_train = read_data_train() # train\n",
        "X_test, labels_test, list_ch_test = read_data_test()"
      ],
      "execution_count": 0,
      "outputs": []
    },
    {
      "metadata": {
        "id": "EG3Tq1ajmjOu",
        "colab_type": "code",
        "colab": {
          "base_uri": "https://localhost:8080/",
          "height": 34
        },
        "outputId": "03434338-f5eb-4931-c5df-25849b28fc4e"
      },
      "cell_type": "code",
      "source": [
        "print(X_train.shape)"
      ],
      "execution_count": 7,
      "outputs": [
        {
          "output_type": "stream",
          "text": [
            "(7352, 128, 9)\n"
          ],
          "name": "stdout"
        }
      ]
    },
    {
      "metadata": {
        "id": "MwRtb-8ymqDz",
        "colab_type": "text"
      },
      "cell_type": "markdown",
      "source": [
        "\n",
        "#### Explaining the shape of the data \n",
        "There are 7,352 data points that are classified as doing one of those activities <br>\n",
        "There are 128 time steps <br>\n",
        "There are 9 values for each time step for each data point for the x,y,z values of the body \n",
        "acceleration, general acceleration and gyrscope reading. <br>"
      ]
    },
    {
      "metadata": {
        "id": "V-8mOh7cm75k",
        "colab_type": "text"
      },
      "cell_type": "markdown",
      "source": [
        "### Use train_test_split to create training and validation data and labels"
      ]
    },
    {
      "metadata": {
        "id": "buuR3HH9yTOw",
        "colab_type": "code",
        "colab": {}
      },
      "cell_type": "code",
      "source": [
        "X_train, X_val, lab_train, lab_val = train_test_split(X_train, labels_train, train_size=0.75, random_state=0)"
      ],
      "execution_count": 0,
      "outputs": []
    },
    {
      "metadata": {
        "id": "roTpeSQMnKHa",
        "colab_type": "text"
      },
      "cell_type": "markdown",
      "source": [
        "One hot coding is when each row represents one label and it the nonzero column represents what the label is<br>\n",
        " [0,0,0,0,0,1] <br>\n",
        "           ^ This label is LAYING, which was previously represented with a 5\n",
        "           <br><br>"
      ]
    },
    {
      "metadata": {
        "id": "0LiLobJZnscs",
        "colab_type": "text"
      },
      "cell_type": "markdown",
      "source": [
        "### One hot encoding functions are provided at the bottom of this notebook <br> Use these functions to convert the training, validation and testing labels"
      ]
    },
    {
      "metadata": {
        "id": "gZQJY0rYnKeC",
        "colab_type": "code",
        "colab": {}
      },
      "cell_type": "code",
      "source": [
        "y_train = one_hot(lab_train)\n",
        "y_val = one_hot(lab_val)\n",
        "y_test = one_hot(labels_test)"
      ],
      "execution_count": 0,
      "outputs": []
    },
    {
      "metadata": {
        "id": "7bi9-LMuotEG",
        "colab_type": "text"
      },
      "cell_type": "markdown",
      "source": [
        "### Define your Keras model <br>\n",
        "You wlil want to use\n",
        "\n",
        "See for examples on creating Keras modelshttps://github.com/keras-team/keras/blob/master/examples/mnist_cnn.py"
      ]
    },
    {
      "metadata": {
        "id": "9mwwpV8upQYD",
        "colab_type": "code",
        "colab": {
          "base_uri": "https://localhost:8080/",
          "height": 255
        },
        "outputId": "3c094f64-deb3-4db7-ea73-8c4e4187dccd"
      },
      "cell_type": "code",
      "source": [
        "# fill in with your code below\n",
        "model = keras.models.Sequential()\n",
        "model.add(keras.layers.Convolution1D(filters=18, kernel_size=3, strides = 1, activation = \"relu\", input_shape=X_train[0].shape))\n",
        "model.add(keras.layers.GlobalMaxPooling1D()) # or keras.layers.MaxPooling1D(pool_size=2, padding=\"valid\")\n",
        "model.add(keras.layers.Dense(6, activation=\"sigmoid\")) \n",
        "print(model.summary())  # view model"
      ],
      "execution_count": 17,
      "outputs": [
        {
          "output_type": "stream",
          "text": [
            "_________________________________________________________________\n",
            "Layer (type)                 Output Shape              Param #   \n",
            "=================================================================\n",
            "conv1d_1 (Conv1D)            (None, 126, 18)           504       \n",
            "_________________________________________________________________\n",
            "global_max_pooling1d_1 (Glob (None, 18)                0         \n",
            "_________________________________________________________________\n",
            "dense_1 (Dense)              (None, 6)                 114       \n",
            "=================================================================\n",
            "Total params: 618\n",
            "Trainable params: 618\n",
            "Non-trainable params: 0\n",
            "_________________________________________________________________\n",
            "None\n"
          ],
          "name": "stdout"
        }
      ]
    },
    {
      "metadata": {
        "id": "X844AtBlqV1Y",
        "colab_type": "text"
      },
      "cell_type": "markdown",
      "source": [
        "### Compile your model"
      ]
    },
    {
      "metadata": {
        "id": "6KSPl0lMqUUZ",
        "colab_type": "code",
        "colab": {}
      },
      "cell_type": "code",
      "source": [
        "lr =  0.0008\n",
        "model.compile( optimizer=tf.train.AdamOptimizer(lr), loss=keras.losses.categorical_crossentropy, metrics = ['accuracy'] )"
      ],
      "execution_count": 0,
      "outputs": []
    },
    {
      "metadata": {
        "id": "pBOK_ZaCq6XR",
        "colab_type": "text"
      },
      "cell_type": "markdown",
      "source": [
        "### Fit your model"
      ]
    },
    {
      "metadata": {
        "id": "6ksWXRzrrCzL",
        "colab_type": "code",
        "colab": {
          "base_uri": "https://localhost:8080/",
          "height": 3454
        },
        "outputId": "da2e7dc9-518d-43c3-f984-8d329cdc13e8"
      },
      "cell_type": "code",
      "source": [
        "history = model.fit( X_train,\n",
        "                    y_train,\n",
        "                    epochs= 100,\n",
        "                    batch_size= 600,\n",
        "                    validation_data=(X_val, y_val),\n",
        "                    verbose=1 \n",
        "                    )"
      ],
      "execution_count": 20,
      "outputs": [
        {
          "output_type": "stream",
          "text": [
            "Train on 5514 samples, validate on 1838 samples\n",
            "Epoch 1/100\n",
            "5514/5514 [==============================] - 1s 203us/step - loss: 1.7821 - acc: 0.1884 - val_loss: 1.7635 - val_acc: 0.1986\n",
            "Epoch 2/100\n",
            "5514/5514 [==============================] - 1s 203us/step - loss: 1.7513 - acc: 0.2053 - val_loss: 1.7360 - val_acc: 0.2307\n",
            "Epoch 3/100\n",
            "5514/5514 [==============================] - 1s 227us/step - loss: 1.7242 - acc: 0.2441 - val_loss: 1.7111 - val_acc: 0.2715\n",
            "Epoch 4/100\n",
            "5514/5514 [==============================] - 1s 227us/step - loss: 1.6988 - acc: 0.2907 - val_loss: 1.6875 - val_acc: 0.3112\n",
            "Epoch 5/100\n",
            "5514/5514 [==============================] - 1s 227us/step - loss: 1.6746 - acc: 0.3322 - val_loss: 1.6640 - val_acc: 0.3542\n",
            "Epoch 6/100\n",
            "5514/5514 [==============================] - 1s 226us/step - loss: 1.6503 - acc: 0.3576 - val_loss: 1.6403 - val_acc: 0.3678\n",
            "Epoch 7/100\n",
            "5514/5514 [==============================] - 1s 227us/step - loss: 1.6258 - acc: 0.3743 - val_loss: 1.6164 - val_acc: 0.3950\n",
            "Epoch 8/100\n",
            "5514/5514 [==============================] - 1s 226us/step - loss: 1.6012 - acc: 0.3937 - val_loss: 1.5924 - val_acc: 0.4135\n",
            "Epoch 9/100\n",
            "5514/5514 [==============================] - 1s 225us/step - loss: 1.5765 - acc: 0.4126 - val_loss: 1.5688 - val_acc: 0.4325\n",
            "Epoch 10/100\n",
            "5514/5514 [==============================] - 1s 222us/step - loss: 1.5524 - acc: 0.4447 - val_loss: 1.5459 - val_acc: 0.4733\n",
            "Epoch 11/100\n",
            "5514/5514 [==============================] - 1s 225us/step - loss: 1.5291 - acc: 0.4761 - val_loss: 1.5236 - val_acc: 0.5147\n"
          ],
          "name": "stdout"
        },
        {
          "output_type": "stream",
          "text": [
            "Epoch 12/100\n",
            "5514/5514 [==============================] - 1s 225us/step - loss: 1.5063 - acc: 0.5044 - val_loss: 1.5016 - val_acc: 0.5256\n",
            "Epoch 13/100\n",
            "5514/5514 [==============================] - 1s 225us/step - loss: 1.4838 - acc: 0.5163 - val_loss: 1.4798 - val_acc: 0.5365\n",
            "Epoch 14/100\n",
            "5514/5514 [==============================] - 1s 226us/step - loss: 1.4617 - acc: 0.5263 - val_loss: 1.4582 - val_acc: 0.5403\n",
            "Epoch 15/100\n",
            "5514/5514 [==============================] - 1s 225us/step - loss: 1.4399 - acc: 0.5357 - val_loss: 1.4367 - val_acc: 0.5490\n",
            "Epoch 16/100\n",
            "5514/5514 [==============================] - 1s 226us/step - loss: 1.4180 - acc: 0.5361 - val_loss: 1.4149 - val_acc: 0.5484\n",
            "Epoch 17/100\n",
            "5514/5514 [==============================] - 1s 224us/step - loss: 1.3963 - acc: 0.5433 - val_loss: 1.3932 - val_acc: 0.5517\n",
            "Epoch 18/100\n",
            "5514/5514 [==============================] - 1s 225us/step - loss: 1.3745 - acc: 0.5481 - val_loss: 1.3716 - val_acc: 0.5550\n",
            "Epoch 19/100\n",
            "5514/5514 [==============================] - 1s 223us/step - loss: 1.3531 - acc: 0.5568 - val_loss: 1.3501 - val_acc: 0.5647\n",
            "Epoch 20/100\n",
            "5514/5514 [==============================] - 1s 225us/step - loss: 1.3316 - acc: 0.5637 - val_loss: 1.3287 - val_acc: 0.5664\n",
            "Epoch 21/100\n",
            "5514/5514 [==============================] - 1s 224us/step - loss: 1.3102 - acc: 0.5646 - val_loss: 1.3068 - val_acc: 0.5658\n",
            "Epoch 22/100\n",
            "5514/5514 [==============================] - 1s 226us/step - loss: 1.2884 - acc: 0.5676 - val_loss: 1.2846 - val_acc: 0.5718\n",
            "Epoch 23/100\n",
            "1200/5514 [=====>........................] - ETA: 0s - loss: 1.2816 - acc: 0.5608"
          ],
          "name": "stdout"
        },
        {
          "output_type": "stream",
          "text": [
            "5514/5514 [==============================] - 1s 224us/step - loss: 1.2662 - acc: 0.5713 - val_loss: 1.2617 - val_acc: 0.5773\n",
            "Epoch 24/100\n",
            "5514/5514 [==============================] - 1s 226us/step - loss: 1.2434 - acc: 0.5753 - val_loss: 1.2382 - val_acc: 0.5827\n",
            "Epoch 25/100\n",
            "5514/5514 [==============================] - 1s 226us/step - loss: 1.2196 - acc: 0.5811 - val_loss: 1.2134 - val_acc: 0.5936\n",
            "Epoch 26/100\n",
            "5514/5514 [==============================] - 1s 226us/step - loss: 1.1949 - acc: 0.5889 - val_loss: 1.1874 - val_acc: 0.5996\n",
            "Epoch 27/100\n",
            "5514/5514 [==============================] - 1s 225us/step - loss: 1.1688 - acc: 0.5974 - val_loss: 1.1600 - val_acc: 0.6088\n",
            "Epoch 28/100\n",
            "5514/5514 [==============================] - 1s 225us/step - loss: 1.1415 - acc: 0.6085 - val_loss: 1.1315 - val_acc: 0.6251\n",
            "Epoch 29/100\n",
            "5514/5514 [==============================] - 1s 227us/step - loss: 1.1128 - acc: 0.6184 - val_loss: 1.1018 - val_acc: 0.6349\n",
            "Epoch 30/100\n",
            "5514/5514 [==============================] - 1s 226us/step - loss: 1.0829 - acc: 0.6304 - val_loss: 1.0709 - val_acc: 0.6600\n",
            "Epoch 31/100\n",
            "5514/5514 [==============================] - 1s 226us/step - loss: 1.0512 - acc: 0.6638 - val_loss: 1.0376 - val_acc: 0.6926\n",
            "Epoch 32/100\n",
            "5514/5514 [==============================] - 1s 225us/step - loss: 1.0173 - acc: 0.6982 - val_loss: 1.0030 - val_acc: 0.7225\n",
            "Epoch 33/100\n",
            "5514/5514 [==============================] - 1s 226us/step - loss: 0.9815 - acc: 0.7249 - val_loss: 0.9668 - val_acc: 0.7459\n",
            "Epoch 34/100\n",
            "1800/5514 [========>.....................] - ETA: 0s - loss: 0.9741 - acc: 0.7311"
          ],
          "name": "stdout"
        },
        {
          "output_type": "stream",
          "text": [
            "5514/5514 [==============================] - 1s 224us/step - loss: 0.9450 - acc: 0.7466 - val_loss: 0.9302 - val_acc: 0.7682\n",
            "Epoch 35/100\n",
            "5514/5514 [==============================] - 1s 225us/step - loss: 0.9088 - acc: 0.7642 - val_loss: 0.8945 - val_acc: 0.7867\n",
            "Epoch 36/100\n",
            "5514/5514 [==============================] - 1s 225us/step - loss: 0.8734 - acc: 0.7838 - val_loss: 0.8599 - val_acc: 0.8041\n",
            "Epoch 37/100\n",
            "5514/5514 [==============================] - 1s 225us/step - loss: 0.8392 - acc: 0.7967 - val_loss: 0.8262 - val_acc: 0.8128\n",
            "Epoch 38/100\n",
            "5514/5514 [==============================] - 1s 226us/step - loss: 0.8060 - acc: 0.8081 - val_loss: 0.7942 - val_acc: 0.8215\n",
            "Epoch 39/100\n",
            "5514/5514 [==============================] - 1s 225us/step - loss: 0.7743 - acc: 0.8185 - val_loss: 0.7631 - val_acc: 0.8264\n",
            "Epoch 40/100\n",
            "5514/5514 [==============================] - 1s 229us/step - loss: 0.7437 - acc: 0.8273 - val_loss: 0.7333 - val_acc: 0.8335\n",
            "Epoch 41/100\n",
            "5514/5514 [==============================] - 1s 223us/step - loss: 0.7140 - acc: 0.8332 - val_loss: 0.7049 - val_acc: 0.8368\n",
            "Epoch 42/100\n",
            "5514/5514 [==============================] - 1s 224us/step - loss: 0.6861 - acc: 0.8419 - val_loss: 0.6776 - val_acc: 0.8449\n",
            "Epoch 43/100\n",
            "5514/5514 [==============================] - 1s 225us/step - loss: 0.6587 - acc: 0.8491 - val_loss: 0.6512 - val_acc: 0.8509\n",
            "Epoch 44/100\n",
            "5514/5514 [==============================] - 1s 223us/step - loss: 0.6325 - acc: 0.8575 - val_loss: 0.6262 - val_acc: 0.8602\n",
            "Epoch 45/100\n",
            "1800/5514 [========>.....................] - ETA: 0s - loss: 0.6118 - acc: 0.8617"
          ],
          "name": "stdout"
        },
        {
          "output_type": "stream",
          "text": [
            "5514/5514 [==============================] - 1s 224us/step - loss: 0.6077 - acc: 0.8636 - val_loss: 0.6019 - val_acc: 0.8624\n",
            "Epoch 46/100\n",
            "5514/5514 [==============================] - 1s 224us/step - loss: 0.5840 - acc: 0.8698 - val_loss: 0.5790 - val_acc: 0.8667\n",
            "Epoch 47/100\n",
            "5514/5514 [==============================] - 1s 223us/step - loss: 0.5616 - acc: 0.8752 - val_loss: 0.5580 - val_acc: 0.8765\n",
            "Epoch 48/100\n",
            "5514/5514 [==============================] - 1s 226us/step - loss: 0.5403 - acc: 0.8796 - val_loss: 0.5375 - val_acc: 0.8798\n",
            "Epoch 49/100\n",
            "5514/5514 [==============================] - 1s 227us/step - loss: 0.5202 - acc: 0.8825 - val_loss: 0.5185 - val_acc: 0.8825\n",
            "Epoch 50/100\n",
            "5514/5514 [==============================] - 1s 224us/step - loss: 0.5013 - acc: 0.8845 - val_loss: 0.5003 - val_acc: 0.8841\n",
            "Epoch 51/100\n",
            "5514/5514 [==============================] - 1s 224us/step - loss: 0.4835 - acc: 0.8886 - val_loss: 0.4833 - val_acc: 0.8863\n",
            "Epoch 52/100\n",
            "5514/5514 [==============================] - 1s 225us/step - loss: 0.4668 - acc: 0.8905 - val_loss: 0.4676 - val_acc: 0.8879\n",
            "Epoch 53/100\n",
            "5514/5514 [==============================] - 1s 227us/step - loss: 0.4513 - acc: 0.8923 - val_loss: 0.4527 - val_acc: 0.8906\n",
            "Epoch 54/100\n",
            "5514/5514 [==============================] - 1s 227us/step - loss: 0.4367 - acc: 0.8941 - val_loss: 0.4390 - val_acc: 0.8928\n",
            "Epoch 55/100\n",
            "5514/5514 [==============================] - 1s 222us/step - loss: 0.4228 - acc: 0.8948 - val_loss: 0.4259 - val_acc: 0.8901\n",
            "Epoch 56/100\n",
            "1800/5514 [========>.....................] - ETA: 0s - loss: 0.4121 - acc: 0.8978"
          ],
          "name": "stdout"
        },
        {
          "output_type": "stream",
          "text": [
            "5514/5514 [==============================] - 1s 224us/step - loss: 0.4102 - acc: 0.8968 - val_loss: 0.4136 - val_acc: 0.8955\n",
            "Epoch 57/100\n",
            "5514/5514 [==============================] - 1s 222us/step - loss: 0.3986 - acc: 0.8983 - val_loss: 0.4021 - val_acc: 0.8961\n",
            "Epoch 58/100\n",
            "5514/5514 [==============================] - 1s 224us/step - loss: 0.3871 - acc: 0.9003 - val_loss: 0.3912 - val_acc: 0.8955\n",
            "Epoch 59/100\n",
            "5514/5514 [==============================] - 1s 224us/step - loss: 0.3768 - acc: 0.8999 - val_loss: 0.3813 - val_acc: 0.8983\n",
            "Epoch 60/100\n",
            "5514/5514 [==============================] - 1s 224us/step - loss: 0.3667 - acc: 0.9032 - val_loss: 0.3719 - val_acc: 0.9015\n",
            "Epoch 61/100\n",
            "5514/5514 [==============================] - 1s 224us/step - loss: 0.3576 - acc: 0.9071 - val_loss: 0.3628 - val_acc: 0.9059\n",
            "Epoch 62/100\n",
            "5514/5514 [==============================] - 1s 224us/step - loss: 0.3487 - acc: 0.9106 - val_loss: 0.3543 - val_acc: 0.9064\n",
            "Epoch 63/100\n",
            "5514/5514 [==============================] - 1s 224us/step - loss: 0.3405 - acc: 0.9126 - val_loss: 0.3462 - val_acc: 0.9102\n",
            "Epoch 64/100\n",
            "5514/5514 [==============================] - 1s 229us/step - loss: 0.3330 - acc: 0.9135 - val_loss: 0.3388 - val_acc: 0.9119\n",
            "Epoch 65/100\n",
            "5514/5514 [==============================] - 1s 224us/step - loss: 0.3253 - acc: 0.9157 - val_loss: 0.3314 - val_acc: 0.9140\n",
            "Epoch 66/100\n",
            "5514/5514 [==============================] - 1s 224us/step - loss: 0.3186 - acc: 0.9164 - val_loss: 0.3248 - val_acc: 0.9146\n",
            "Epoch 67/100\n",
            "1800/5514 [========>.....................] - ETA: 0s - loss: 0.3131 - acc: 0.9139"
          ],
          "name": "stdout"
        },
        {
          "output_type": "stream",
          "text": [
            "5514/5514 [==============================] - 1s 224us/step - loss: 0.3119 - acc: 0.9182 - val_loss: 0.3181 - val_acc: 0.9157\n",
            "Epoch 68/100\n",
            "5514/5514 [==============================] - 1s 226us/step - loss: 0.3056 - acc: 0.9175 - val_loss: 0.3120 - val_acc: 0.9162\n",
            "Epoch 69/100\n",
            "5514/5514 [==============================] - 1s 225us/step - loss: 0.2998 - acc: 0.9180 - val_loss: 0.3062 - val_acc: 0.9146\n",
            "Epoch 70/100\n",
            "5514/5514 [==============================] - 1s 223us/step - loss: 0.2940 - acc: 0.9204 - val_loss: 0.3009 - val_acc: 0.9189\n",
            "Epoch 71/100\n",
            "5514/5514 [==============================] - 1s 223us/step - loss: 0.2887 - acc: 0.9209 - val_loss: 0.2958 - val_acc: 0.9178\n",
            "Epoch 72/100\n",
            "5514/5514 [==============================] - 1s 224us/step - loss: 0.2837 - acc: 0.9213 - val_loss: 0.2908 - val_acc: 0.9189\n",
            "Epoch 73/100\n",
            "5514/5514 [==============================] - 1s 226us/step - loss: 0.2790 - acc: 0.9213 - val_loss: 0.2859 - val_acc: 0.9178\n",
            "Epoch 74/100\n",
            "5514/5514 [==============================] - 1s 225us/step - loss: 0.2743 - acc: 0.9224 - val_loss: 0.2814 - val_acc: 0.9184\n",
            "Epoch 75/100\n",
            "5514/5514 [==============================] - 1s 226us/step - loss: 0.2700 - acc: 0.9226 - val_loss: 0.2773 - val_acc: 0.9200\n",
            "Epoch 76/100\n",
            "5514/5514 [==============================] - 1s 222us/step - loss: 0.2659 - acc: 0.9240 - val_loss: 0.2733 - val_acc: 0.9206\n",
            "Epoch 77/100\n",
            "5514/5514 [==============================] - 1s 225us/step - loss: 0.2618 - acc: 0.9249 - val_loss: 0.2695 - val_acc: 0.9206\n",
            "Epoch 78/100\n",
            "1800/5514 [========>.....................] - ETA: 0s - loss: 0.2577 - acc: 0.9311"
          ],
          "name": "stdout"
        },
        {
          "output_type": "stream",
          "text": [
            "5514/5514 [==============================] - 1s 224us/step - loss: 0.2579 - acc: 0.9251 - val_loss: 0.2659 - val_acc: 0.9200\n",
            "Epoch 79/100\n",
            "5514/5514 [==============================] - 1s 223us/step - loss: 0.2546 - acc: 0.9242 - val_loss: 0.2624 - val_acc: 0.9195\n",
            "Epoch 80/100\n",
            "5514/5514 [==============================] - 1s 223us/step - loss: 0.2510 - acc: 0.9251 - val_loss: 0.2591 - val_acc: 0.9206\n",
            "Epoch 81/100\n",
            "5514/5514 [==============================] - 1s 224us/step - loss: 0.2475 - acc: 0.9262 - val_loss: 0.2564 - val_acc: 0.9211\n",
            "Epoch 82/100\n",
            "5514/5514 [==============================] - 1s 226us/step - loss: 0.2445 - acc: 0.9275 - val_loss: 0.2527 - val_acc: 0.9206\n",
            "Epoch 83/100\n",
            "5514/5514 [==============================] - 1s 225us/step - loss: 0.2415 - acc: 0.9264 - val_loss: 0.2497 - val_acc: 0.9206\n",
            "Epoch 84/100\n",
            "5514/5514 [==============================] - 1s 224us/step - loss: 0.2385 - acc: 0.9278 - val_loss: 0.2468 - val_acc: 0.9211\n",
            "Epoch 85/100\n",
            "5514/5514 [==============================] - 1s 223us/step - loss: 0.2356 - acc: 0.9273 - val_loss: 0.2441 - val_acc: 0.9227\n",
            "Epoch 86/100\n",
            "5514/5514 [==============================] - 1s 222us/step - loss: 0.2328 - acc: 0.9282 - val_loss: 0.2413 - val_acc: 0.9222\n",
            "Epoch 87/100\n",
            "5514/5514 [==============================] - 1s 222us/step - loss: 0.2302 - acc: 0.9284 - val_loss: 0.2389 - val_acc: 0.9233\n",
            "Epoch 88/100\n",
            "5514/5514 [==============================] - 1s 225us/step - loss: 0.2278 - acc: 0.9300 - val_loss: 0.2368 - val_acc: 0.9233\n",
            "Epoch 89/100\n",
            "1800/5514 [========>.....................] - ETA: 0s - loss: 0.2276 - acc: 0.9300"
          ],
          "name": "stdout"
        },
        {
          "output_type": "stream",
          "text": [
            "5514/5514 [==============================] - 1s 223us/step - loss: 0.2253 - acc: 0.9295 - val_loss: 0.2340 - val_acc: 0.9233\n",
            "Epoch 90/100\n",
            "5514/5514 [==============================] - 1s 224us/step - loss: 0.2231 - acc: 0.9291 - val_loss: 0.2317 - val_acc: 0.9227\n",
            "Epoch 91/100\n",
            "5514/5514 [==============================] - 1s 226us/step - loss: 0.2207 - acc: 0.9298 - val_loss: 0.2296 - val_acc: 0.9227\n",
            "Epoch 92/100\n",
            "5514/5514 [==============================] - 1s 223us/step - loss: 0.2186 - acc: 0.9311 - val_loss: 0.2276 - val_acc: 0.9227\n",
            "Epoch 93/100\n",
            "5514/5514 [==============================] - 1s 222us/step - loss: 0.2165 - acc: 0.9305 - val_loss: 0.2253 - val_acc: 0.9233\n",
            "Epoch 94/100\n",
            "5514/5514 [==============================] - 1s 225us/step - loss: 0.2144 - acc: 0.9305 - val_loss: 0.2233 - val_acc: 0.9233\n",
            "Epoch 95/100\n",
            "5514/5514 [==============================] - 1s 226us/step - loss: 0.2125 - acc: 0.9302 - val_loss: 0.2214 - val_acc: 0.9244\n",
            "Epoch 96/100\n",
            "5514/5514 [==============================] - 1s 225us/step - loss: 0.2106 - acc: 0.9307 - val_loss: 0.2196 - val_acc: 0.9227\n",
            "Epoch 97/100\n",
            "5514/5514 [==============================] - 1s 224us/step - loss: 0.2087 - acc: 0.9309 - val_loss: 0.2179 - val_acc: 0.9244\n",
            "Epoch 98/100\n",
            "5514/5514 [==============================] - 1s 224us/step - loss: 0.2070 - acc: 0.9311 - val_loss: 0.2159 - val_acc: 0.9238\n",
            "Epoch 99/100\n",
            "5514/5514 [==============================] - 1s 223us/step - loss: 0.2052 - acc: 0.9309 - val_loss: 0.2145 - val_acc: 0.9238\n",
            "Epoch 100/100\n",
            "1800/5514 [========>.....................] - ETA: 0s - loss: 0.2015 - acc: 0.9333"
          ],
          "name": "stdout"
        },
        {
          "output_type": "stream",
          "text": [
            "5514/5514 [==============================] - 1s 224us/step - loss: 0.2034 - acc: 0.9320 - val_loss: 0.2127 - val_acc: 0.9238\n"
          ],
          "name": "stdout"
        }
      ]
    },
    {
      "metadata": {
        "id": "2YXazeH8udoG",
        "colab_type": "text"
      },
      "cell_type": "markdown",
      "source": [
        "### Code below prints the test loss and accuracy <br>\n",
        "### Before you print your accuracy and loss, play around with the parameters!!"
      ]
    },
    {
      "metadata": {
        "id": "k0e7vQOO5w90",
        "colab_type": "code",
        "colab": {
          "base_uri": "https://localhost:8080/",
          "height": 51
        },
        "outputId": "5ea5f7b0-63b0-4e6b-c58e-ca640c768b8b"
      },
      "cell_type": "code",
      "source": [
        "score = model.evaluate(X_test, y_test, verbose=0)\n",
        "print('Test loss:', score[0])\n",
        "print('Test accuracy:', score[1])"
      ],
      "execution_count": 21,
      "outputs": [
        {
          "output_type": "stream",
          "text": [
            "('Test loss:', 0.3620428957189185)\n",
            "('Test accuracy:', 0.8686800135731252)\n"
          ],
          "name": "stdout"
        }
      ]
    },
    {
      "metadata": {
        "id": "0oQd_q-LxEi8",
        "colab_type": "code",
        "colab": {}
      },
      "cell_type": "code",
      "source": [
        ""
      ],
      "execution_count": 0,
      "outputs": []
    },
    {
      "metadata": {
        "id": "42UVWm_wxEf5",
        "colab_type": "code",
        "colab": {}
      },
      "cell_type": "code",
      "source": [
        ""
      ],
      "execution_count": 0,
      "outputs": []
    },
    {
      "metadata": {
        "id": "DRsI4XwYxFgK",
        "colab_type": "text"
      },
      "cell_type": "markdown",
      "source": [
        "### Provided Functions Below"
      ]
    },
    {
      "metadata": {
        "id": "adnPCq9PuTBq",
        "colab_type": "code",
        "colab": {}
      },
      "cell_type": "code",
      "source": [
        "def read_data_train():\n",
        "  \"\"\" Read data \"\"\"\n",
        "\n",
        "  # Fixed params\n",
        "  n_class = 6\n",
        "  n_steps = 128\n",
        "\n",
        "  label_path = 'https://raw.githubusercontent.com/BeaverWorksMedlytics/datasets/master/week2_conv1d/y_train.txt'\n",
        "  labels = pd.read_csv(label_path, header = None)\n",
        "\n",
        "  list_of_channels = ['body_acc_x', 'body_acc_y', 'body_acc_z', 'body_gyro_x',\n",
        "  'body_gyro_y', 'body_gyro_z', 'total_acc_x', 'total_acc_y', 'total_acc_z']\n",
        "\n",
        "  X = np.zeros((len(labels), n_steps, len(list_of_channels)))\n",
        "\n",
        "  label_path = 'https://raw.githubusercontent.com/BeaverWorksMedlytics/datasets/master/week2_conv1d/IntertialSignals/body_acc_x_train.txt'\n",
        "  dat_ = pd.read_csv(label_path, delim_whitespace = True, header = None)\n",
        "  X[:,:,0] = dat_.as_matrix()\n",
        "\n",
        "  label_path = 'https://raw.githubusercontent.com/BeaverWorksMedlytics/datasets/master/week2_conv1d/IntertialSignals/body_acc_y_train.txt'\n",
        "  dat_ = pd.read_csv(label_path, delim_whitespace = True, header = None)\n",
        "  X[:,:,1] = dat_.as_matrix()\n",
        "\n",
        "  label_path = 'https://raw.githubusercontent.com/BeaverWorksMedlytics/datasets/master/week2_conv1d/IntertialSignals/body_acc_z_train.txt'\n",
        "  dat_ = pd.read_csv(label_path, delim_whitespace = True, header = None)\n",
        "  X[:,:,2] = dat_.as_matrix()\n",
        "\n",
        "  label_path = 'https://raw.githubusercontent.com/BeaverWorksMedlytics/datasets/master/week2_conv1d/IntertialSignals/body_gyro_x_train.txt'\n",
        "  dat_ = pd.read_csv(label_path, delim_whitespace = True, header = None)\n",
        "  X[:,:,3] = dat_.as_matrix()\n",
        "\n",
        "  label_path = 'https://raw.githubusercontent.com/BeaverWorksMedlytics/datasets/master/week2_conv1d/IntertialSignals/body_gyro_y_train.txt'\n",
        "  dat_ = pd.read_csv(label_path, delim_whitespace = True, header = None)\n",
        "  X[:,:,4] = dat_.as_matrix()\n",
        "\n",
        "  label_path = 'https://raw.githubusercontent.com/BeaverWorksMedlytics/datasets/master/week2_conv1d/IntertialSignals/body_gyro_z_train.txt'\n",
        "  dat_ = pd.read_csv(label_path, delim_whitespace = True, header = None)\n",
        "  X[:,:,5] = dat_.as_matrix()\n",
        "\n",
        "  label_path = 'https://raw.githubusercontent.com/BeaverWorksMedlytics/datasets/master/week2_conv1d/IntertialSignals/total_acc_x_train.txt'\n",
        "  dat_ = pd.read_csv(label_path, delim_whitespace = True, header = None)\n",
        "  X[:,:,6] = dat_.as_matrix()\n",
        "\n",
        "  label_path = 'https://raw.githubusercontent.com/BeaverWorksMedlytics/datasets/master/week2_conv1d/IntertialSignals/total_acc_y_train.txt'\n",
        "  dat_ = pd.read_csv(label_path, delim_whitespace = True, header = None)\n",
        "  X[:,:,7] = dat_.as_matrix()\n",
        "\n",
        "  label_path = 'https://raw.githubusercontent.com/BeaverWorksMedlytics/datasets/master/week2_conv1d/IntertialSignals/total_acc_z_train.txt'\n",
        "  dat_ = pd.read_csv(label_path, delim_whitespace = True, header = None)\n",
        "  X[:,:,8] = dat_.as_matrix()\n",
        "\n",
        "\n",
        "  # Return \n",
        "  return X, labels[0].values, list_of_channels"
      ],
      "execution_count": 0,
      "outputs": []
    },
    {
      "metadata": {
        "id": "iDJBOkx9x0HZ",
        "colab_type": "code",
        "colab": {}
      },
      "cell_type": "code",
      "source": [
        "def read_data_test():\n",
        "  \"\"\" Read data \"\"\"\n",
        "\n",
        "  # Fixed params\n",
        "  n_class = 6\n",
        "  n_steps = 128\n",
        "\n",
        "  label_path = 'https://raw.githubusercontent.com/BeaverWorksMedlytics/datasets/master/week2_conv1d/y_test.txt'\n",
        "  labels = pd.read_csv(label_path, header = None)\n",
        "\n",
        "  list_of_channels = ['body_acc_x', 'body_acc_y', 'body_acc_z', 'body_gyro_x',\n",
        "  'body_gyro_y', 'body_gyro_z', 'total_acc_x', 'total_acc_y', 'total_acc_z']\n",
        "\n",
        "  X = np.zeros((len(labels), n_steps, len(list_of_channels)))\n",
        "\n",
        "  label_path = 'https://raw.githubusercontent.com/BeaverWorksMedlytics/datasets/master/week2_conv1d/IntertialSignals/body_acc_x_test.txt'\n",
        "  dat_ = pd.read_csv(label_path, delim_whitespace = True, header = None)\n",
        "  X[:,:,0] = dat_.as_matrix()\n",
        "\n",
        "  label_path = 'https://raw.githubusercontent.com/BeaverWorksMedlytics/datasets/master/week2_conv1d/IntertialSignals/body_acc_y_test.txt'\n",
        "  dat_ = pd.read_csv(label_path, delim_whitespace = True, header = None)\n",
        "  X[:,:,1] = dat_.as_matrix()\n",
        "\n",
        "  label_path = 'https://raw.githubusercontent.com/BeaverWorksMedlytics/datasets/master/week2_conv1d/IntertialSignals/body_acc_z_test.txt'\n",
        "  dat_ = pd.read_csv(label_path, delim_whitespace = True, header = None)\n",
        "  X[:,:,2] = dat_.as_matrix()\n",
        "\n",
        "  label_path = 'https://raw.githubusercontent.com/BeaverWorksMedlytics/datasets/master/week2_conv1d/IntertialSignals/body_gyro_x_test.txt'\n",
        "  dat_ = pd.read_csv(label_path, delim_whitespace = True, header = None)\n",
        "  X[:,:,3] = dat_.as_matrix()\n",
        "\n",
        "  label_path = 'https://raw.githubusercontent.com/BeaverWorksMedlytics/datasets/master/week2_conv1d/IntertialSignals/body_gyro_y_test.txt'\n",
        "  dat_ = pd.read_csv(label_path, delim_whitespace = True, header = None)\n",
        "  X[:,:,4] = dat_.as_matrix()\n",
        "\n",
        "  label_path = 'https://raw.githubusercontent.com/BeaverWorksMedlytics/datasets/master/week2_conv1d/IntertialSignals/body_gyro_z_test.txt'\n",
        "  dat_ = pd.read_csv(label_path, delim_whitespace = True, header = None)\n",
        "  X[:,:,5] = dat_.as_matrix()\n",
        "\n",
        "  label_path = 'https://raw.githubusercontent.com/BeaverWorksMedlytics/datasets/master/week2_conv1d/IntertialSignals/total_acc_x_test.txt'\n",
        "  dat_ = pd.read_csv(label_path, delim_whitespace = True, header = None)\n",
        "  X[:,:,6] = dat_.as_matrix()\n",
        "\n",
        "  label_path = 'https://raw.githubusercontent.com/BeaverWorksMedlytics/datasets/master/week2_conv1d/IntertialSignals/total_acc_y_test.txt'\n",
        "  dat_ = pd.read_csv(label_path, delim_whitespace = True, header = None)\n",
        "  X[:,:,7] = dat_.as_matrix()\n",
        "\n",
        "  label_path = 'https://raw.githubusercontent.com/BeaverWorksMedlytics/datasets/master/week2_conv1d/IntertialSignals/total_acc_z_test.txt'\n",
        "  dat_ = pd.read_csv(label_path, delim_whitespace = True, header = None)\n",
        "  X[:,:,8] = dat_.as_matrix()\n",
        "\n",
        "\n",
        "  # Return \n",
        "  return X, labels[0].values, list_of_channels"
      ],
      "execution_count": 0,
      "outputs": []
    },
    {
      "metadata": {
        "id": "wrog_9co1HhG",
        "colab_type": "code",
        "colab": {}
      },
      "cell_type": "code",
      "source": [
        "def one_hot(labels, n_class = 6):\n",
        "\t\"\"\" One-hot encoding \"\"\"\n",
        "\texpansion = np.eye(n_class)\n",
        "\ty = expansion[:, labels-1].T\n",
        "\tassert y.shape[1] == n_class, \"Wrong number of labels!\"\n",
        "\n",
        "\treturn y"
      ],
      "execution_count": 0,
      "outputs": []
    },
    {
      "metadata": {
        "id": "EYft5h8x1IbU",
        "colab_type": "code",
        "colab": {}
      },
      "cell_type": "code",
      "source": [
        "def get_batches(X, y, batch_size = 100):\n",
        "\t\"\"\" Return a generator for batches \"\"\"\n",
        "\tn_batches = len(X) // batch_size\n",
        "\tX, y = X[:n_batches*batch_size], y[:n_batches*batch_size]\n",
        "\n",
        "\t# Loop over batches and yield\n",
        "\tfor b in range(0, len(X), batch_size):\n",
        "\t\tyield X[b:b+batch_size], y[b:b+batch_size]"
      ],
      "execution_count": 0,
      "outputs": []
    },
    {
      "metadata": {
        "id": "Sfwx7f1icYwo",
        "colab_type": "code",
        "colab": {}
      },
      "cell_type": "code",
      "source": [
        ""
      ],
      "execution_count": 0,
      "outputs": []
    }
  ]
}